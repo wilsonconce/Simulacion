{
  "cells": [
    {
      "cell_type": "markdown",
      "metadata": {
        "id": "view-in-github",
        "colab_type": "text"
      },
      "source": [
        "<a href=\"https://colab.research.google.com/github/wilsonconce/Simulacion/blob/master/TareaDados.ipynb\" target=\"_parent\"><img src=\"https://colab.research.google.com/assets/colab-badge.svg\" alt=\"Open In Colab\"/></a>"
      ]
    },
    {
      "cell_type": "markdown",
      "metadata": {
        "id": "-aY5gn4XF90y"
      },
      "source": [
        "## Wilson Conce\n",
        "## Simulacion lanzamiento de dados"
      ]
    },
    {
      "cell_type": "code",
      "execution_count": null,
      "metadata": {
        "id": "FIZkQBeVF901"
      },
      "outputs": [],
      "source": [
        "from random import randrange,randint\n",
        "import matplotlib.pyplot as plt\n",
        "import numpy as np\n",
        "import pandas as pd"
      ]
    },
    {
      "cell_type": "code",
      "execution_count": null,
      "metadata": {
        "colab": {
          "base_uri": "https://localhost:8080/",
          "height": 265
        },
        "id": "TSo7wSWHF902",
        "outputId": "21746533-22a8-421b-f421-5d383650c8e3"
      },
      "outputs": [
        {
          "output_type": "display_data",
          "data": {
            "image/png": "[encoded data removed]",
            "text/plain": [
              "<Figure size 432x288 with 1 Axes>"
            ]
          },
          "metadata": {
            "needs_background": "light"
          }
        }
      ],
      "source": [
        "iteraciones=10000\n",
        "i=0\n",
        "datos = []\n",
        "conteo = {}\n",
        "nveces=[]\n",
        "numero=[]\n",
        "\n",
        "\n",
        "while i < iteraciones:\n",
        "    dado_uno = randint(1,6)\n",
        "    dado_dos = randint(1,6)\n",
        "    valor_total = dado_uno+dado_dos\n",
        "    datos.append(valor_total)\n",
        "    i+=1\n",
        "\n",
        "for x in datos:\n",
        "    if x in conteo:\n",
        "        conteo[x] += 1\n",
        "    else:\n",
        "        conteo[x] = 1\n",
        "\n",
        "for valor in sorted(conteo):\n",
        "    numero.append(valor)\n",
        "    nveces.append(conteo[valor])\n",
        "\n",
        "intervalos = range(min(numero), max(numero)+2) #calculamos los extremos de los intervalos\n",
        "plt.hist(datos, bins=intervalos, color='#13851f', rwidth=0.5)\n",
        "plt.xticks(numero)\n",
        "plt.grid()\n",
        "plt.show()\n",
        "\n"
      ]
    }
  ],
  "metadata": {
    "kernelspec": {
      "display_name": "Python 3",
      "language": "python",
      "name": "python3"
    },
    "language_info": {
      "codemirror_mode": {
        "name": "ipython",
        "version": 3
      },
      "file_extension": ".py",
      "mimetype": "text/x-python",
      "name": "python",
      "nbconvert_exporter": "python",
      "pygments_lexer": "ipython3",
      "version": "3.8.5"
    },
    "colab": {
      "name": "TareaDados.ipynb",
      "provenance": [],
      "include_colab_link": true
    }
  },
  "nbformat": 4,
  "nbformat_minor": 0
}