{
  "nbformat": 4,
  "nbformat_minor": 0,
  "metadata": {
    "colab": {
      "name": "TareaMonteCarlo.ipynb",
      "provenance": [],
      "collapsed_sections": [],
      "include_colab_link": true
    },
    "kernelspec": {
      "name": "python3",
      "display_name": "Python 3"
    },
    "language_info": {
      "name": "python"
    }
  },
  "cells": [
    {
      "cell_type": "markdown",
      "metadata": {
        "id": "view-in-github",
        "colab_type": "text"
      },
      "source": [
        "<a href=\"https://colab.research.google.com/github/wilsonconce/Simulacion/blob/master/TareaMonteCarlo.ipynb\" target=\"_parent\"><img src=\"https://colab.research.google.com/assets/colab-badge.svg\" alt=\"Open In Colab\"/></a>"
      ]
    },
    {
      "cell_type": "markdown",
      "source": [
        "# MonteCarlo"
      ],
      "metadata": {
        "id": "RLRheBfvRgrJ"
      }
    },
    {
      "cell_type": "code",
      "execution_count": 2,
      "metadata": {
        "id": "tOHoKN_hXllS"
      },
      "outputs": [],
      "source": [
        "import random\n",
        "import numpy as no\n",
        "import matplotlib.pyplot as plt"
      ]
    },
    {
      "cell_type": "code",
      "source": [
        "def moneda():\n",
        "  return random.randint(0,1)"
      ],
      "metadata": {
        "id": "G7ELQyt_XwtK"
      },
      "execution_count": 3,
      "outputs": []
    },
    {
      "cell_type": "code",
      "source": [
        "lista = []\n",
        "def monteCarlo(n):\n",
        "  res = 0\n",
        "  for i in range(n):\n",
        "    moneda_res = moneda()\n",
        "    res = res + moneda_res\n",
        "    prob_val = res/(i+1)\n",
        "    lista.append(prob_val)\n",
        "    plt.axhline(y=0.5, color='r', linestyle='-')\n",
        "    plt.xlabel('Iteraciones')\n",
        "    plt.ylabel('Probabilidad')\n",
        "    plt.plot(lista)\n",
        "  return res/n"
      ],
      "metadata": {
        "id": "sew0i1moXzvb"
      },
      "execution_count": 4,
      "outputs": []
    },
    {
      "cell_type": "code",
      "source": [
        "mtC = monteCarlo(500)\n",
        "print('Valor final: ', mtC)"
      ],
      "metadata": {
        "id": "Nz4wzJT9X1pH",
        "outputId": "04d89a07-5c21-414c-a1c6-02ad75d7e964",
        "colab": {
          "base_uri": "https://localhost:8080/",
          "height": 297
        }
      },
      "execution_count": 5,
      "outputs": [
        {
          "output_type": "stream",
          "name": "stdout",
          "text": [
            "Valor final:  0.502\n"
          ]
        },
        {
          "output_type": "display_data",
          "data": {
            "image/png": "[encoded data removed]",
            "text/plain": [
              "<Figure size 432x288 with 1 Axes>"
            ]
          },
          "metadata": {
            "needs_background": "light"
          }
        }
      ]
    }
  ]
}