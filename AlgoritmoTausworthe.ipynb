{
  "nbformat": 4,
  "nbformat_minor": 0,
  "metadata": {
    "colab": {
      "name": "AlgoritmoTausworthe.ipynb",
      "provenance": [],
      "authorship_tag": "ABX9TyOigBQG4OTvFoCEq0+/K0XI",
      "include_colab_link": true
    },
    "kernelspec": {
      "name": "python3",
      "display_name": "Python 3"
    },
    "language_info": {
      "name": "python"
    }
  },
  "cells": [
    {
      "cell_type": "markdown",
      "metadata": {
        "id": "view-in-github",
        "colab_type": "text"
      },
      "source": [
        "<a href=\"https://colab.research.google.com/github/wilsonconce/Simulacion/blob/master/AlgoritmoTausworthe.ipynb\" target=\"_parent\"><img src=\"https://colab.research.google.com/assets/colab-badge.svg\" alt=\"Open In Colab\"/></a>"
      ]
    },
    {
      "cell_type": "markdown",
      "source": [
        "# Implementacion algoritmo Tausworthe "
      ],
      "metadata": {
        "id": "gpz3Wh3SYLgZ"
      }
    },
    {
      "cell_type": "code",
      "execution_count": 1,
      "metadata": {
        "colab": {
          "base_uri": "https://localhost:8080/"
        },
        "id": "IJRfvKfJX9mD",
        "outputId": "0dd55daa-c89c-415b-a9ab-31403064cb31"
      },
      "outputs": [
        {
          "output_type": "stream",
          "name": "stdout",
          "text": [
            "Ingrese el valor de r: 5\n",
            "Ingrese el valor de q: 8\n",
            "\n",
            " It. \t Base 2 \t Base 10 \t Ui \n",
            "\n",
            "0 \t 1 1 1 1 \t 15 \t \t 0.9375\n",
            "1 \t 1 1 1 1 \t 15 \t \t 0.9375\n",
            "2 \t 0 0 0 0 \t 0 \t \t 0.0\n",
            "3 \t 0 1 1 1 \t 7 \t \t 0.4375\n",
            "4 \t 0 0 1 1 \t 3 \t \t 0.1875\n",
            "5 \t 1 1 1 0 \t 14 \t \t 0.875\n",
            "6 \t 1 1 0 0 \t 12 \t \t 0.75\n",
            "7 \t 1 0 0 0 \t 8 \t \t 0.5\n",
            "8 \t 1 0 0 0 \t 8 \t \t 0.5\n",
            "9 \t 1 1 0 0 \t 12 \t \t 0.75\n",
            "10 \t 1 1 1 0 \t 14 \t \t 0.875\n",
            "11 \t 1 0 1 1 \t 11 \t \t 0.6875\n",
            "12 \t 1 0 1 1 \t 11 \t \t 0.6875\n",
            "13 \t 0 1 1 0 \t 6 \t \t 0.375\n",
            "14 \t 0 0 0 0 \t 0 \t \t 0.0\n",
            "15 \t 0 1 1 0 \t 6 \t \t 0.375\n",
            "16 \t 0 0 1 1 \t 3 \t \t 0.1875\n",
            "17 \t 0 1 1 1 \t 7 \t \t 0.4375\n",
            "18 \t 1 0 0 0 \t 8 \t \t 0.5\n",
            "19 \t 1 0 1 1 \t 11 \t \t 0.6875\n",
            "20 \t 1 1 0 1 \t 13 \t \t 0.8125\n",
            "21 \t 0 1 0 1 \t 5 \t \t 0.3125\n",
            "22 \t 0 1 1 1 \t 7 \t \t 0.4375\n",
            "23 \t 1 1 1 0 \t 14 \t \t 0.875\n",
            "24 \t 1 0 0 0 \t 8 \t \t 0.5\n",
            "25 \t 1 0 1 0 \t 10 \t \t 0.625\n",
            "26 \t 1 1 0 1 \t 13 \t \t 0.8125\n",
            "27 \t 1 1 0 0 \t 12 \t \t 0.75\n",
            "28 \t 0 0 1 1 \t 3 \t \t 0.1875\n",
            "29 \t 1 1 0 1 \t 13 \t \t 0.8125\n",
            "30 \t 1 1 0 1 \t 13 \t \t 0.8125\n",
            "31 \t 0 0 1 1 \t 3 \t \t 0.1875\n",
            "32 \t 0 1 0 0 \t 4 \t \t 0.25\n",
            "33 \t 1 0 0 1 \t 9 \t \t 0.5625\n",
            "34 \t 0 0 0 0 \t 0 \t \t 0.0\n",
            "35 \t 0 0 0 1 \t 1 \t \t 0.0625\n",
            "36 \t 0 0 0 0 \t 0 \t \t 0.0\n",
            "37 \t 1 0 0 1 \t 9 \t \t 0.5625\n",
            "38 \t 0 1 0 0 \t 4 \t \t 0.25\n",
            "39 \t 0 0 1 1 \t 3 \t \t 0.1875\n",
            "40 \t 0 1 0 1 \t 5 \t \t 0.3125\n",
            "41 \t 1 0 0 1 \t 9 \t \t 0.5625\n",
            "42 \t 1 0 0 1 \t 9 \t \t 0.5625\n",
            "43 \t 0 1 0 1 \t 5 \t \t 0.3125\n",
            "44 \t 0 0 1 1 \t 3 \t \t 0.1875\n",
            "45 \t 1 1 0 0 \t 12 \t \t 0.75\n",
            "46 \t 1 1 0 1 \t 13 \t \t 0.8125\n",
            "47 \t 1 0 1 0 \t 10 \t \t 0.625\n",
            "48 \t 0 0 0 0 \t 0 \t \t 0.0\n",
            "49 \t 1 0 1 0 \t 10 \t \t 0.625\n",
            "50 \t 0 1 0 1 \t 5 \t \t 0.3125\n",
            "51 \t 1 0 0 0 \t 8 \t \t 0.5\n",
            "52 \t 1 0 0 1 \t 9 \t \t 0.5625\n",
            "53 \t 1 1 0 0 \t 12 \t \t 0.75\n",
            "54 \t 0 1 1 1 \t 7 \t \t 0.4375\n",
            "55 \t 1 1 1 1 \t 15 \t \t 0.9375\n",
            "56 \t 1 0 0 0 \t 8 \t \t 0.5\n",
            "57 \t 0 0 1 1 \t 3 \t \t 0.1875\n",
            "58 \t 1 0 0 1 \t 9 \t \t 0.5625\n",
            "59 \t 1 1 1 1 \t 15 \t \t 0.9375\n",
            "60 \t 0 1 1 0 \t 6 \t \t 0.375\n",
            "61 \t 0 1 0 0 \t 4 \t \t 0.25\n",
            "62 \t 0 1 0 0 \t 4 \t \t 0.25\n",
            "63 \t 0 1 1 0 \t 6 \t \t 0.375\n",
            "64 \t 0 1 1 1 \t 7 \t \t 0.4375\n",
            "65 \t 0 1 0 1 \t 4 \t \t 0.25\n"
          ]
        }
      ],
      "source": [
        "#Generador Tausworthe de 4 bits\n",
        "from itertools import zip_longest\n",
        "\n",
        "r = int(input(\"Ingrese el valor de r: \"))\n",
        "q = int(input(\"Ingrese el valor de q: \"))\n",
        "\n",
        "def operacionXOR(a,b):\n",
        "  ab = 1\n",
        "  if a  == b:\n",
        "    ab = 0\n",
        "  return ab\n",
        "\n",
        "bits = []\n",
        "b = (2**q) - 1\n",
        "\n",
        "for i in range(0,b):\n",
        "  bits.append(0)\n",
        "\n",
        "\n",
        "for i in range(0,q):\n",
        "  bits[i] = 1\n",
        "  bits.append(1)\n",
        "\n",
        "a = q+1\n",
        "for i in range(a,len(bits)):\n",
        "  i1 = i - r\n",
        "  i2 = i - q\n",
        "  bits[i] = operacionXOR(bits[i1],bits[i2])\n",
        "\n",
        "\n",
        "def binaryToDecimal(binario):\n",
        "  a = 0\n",
        "  p = 3\n",
        "  for i in range(0,len(binario)):\n",
        "    if binario[i] == 1:\n",
        "      a += 2**(p-i)\n",
        "  return a\n",
        "\n",
        "\n",
        "\n",
        "test_list = bits\n",
        "\n",
        "\n",
        "def group_elements(n, iterable, padvalue='1'):\n",
        "    return zip_longest(*[iter(iterable)]*n, fillvalue=padvalue)\n",
        "\n",
        "print(\"\\n\",\"It.\", \"\\t\", \"Base 2\", \"\\t\",\"Base 10\",\"\\t\",\"Ui\",\"\\n\")\n",
        "d = 0\n",
        "for output in group_elements(4,test_list):\n",
        "    lst_new = [str(a) for a in output]\n",
        "    print(d,\"\\t\" ,\" \".join(lst_new), \"\\t\", binaryToDecimal(output), \"\\t\", \"\\t\", binaryToDecimal(output)/16)\n",
        "    d +=1\n"
      ]
    }
  ]
}